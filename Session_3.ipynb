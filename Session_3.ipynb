{
 "cells": [
  {
   "cell_type": "code",
   "execution_count": null,
   "metadata": {},
   "outputs": [],
   "source": [
    "#"
   ]
  },
  {
   "attachments": {},
   "cell_type": "markdown",
   "metadata": {},
   "source": [
    "# Best, Worst, and Average Case Analysis"
   ]
  },
  {
   "attachments": {},
   "cell_type": "markdown",
   "metadata": {},
   "source": [
    "## Linear Search"
   ]
  },
  {
   "attachments": {},
   "cell_type": "markdown",
   "metadata": {},
   "source": [
    "- Given an array A of randomized elements:\n",
    "    - linear search looks for key element at a time"
   ]
  },
  {
   "attachments": {},
   "cell_type": "markdown",
   "metadata": {},
   "source": [
    "### Finding Best/Worst Case"
   ]
  },
  {
   "attachments": {},
   "cell_type": "markdown",
   "metadata": {},
   "source": [
    "- Best case - searching key element @ first index\n",
    "    - Best case time is constant -> $O(1)$\n",
    "- Worst case - searching key element @ last index\n",
    "    - Worst case time is -> $O(n)$\n",
    "- Average case = $ \\frac{all possible case time}{number of cases} $\n",
    "    - $ Average time =  \\frac {1 + 2 + 3 + ... + n}{n} = \\frac{ \\frac{n(n+1)}{2}}{n} = \\frac {n+1}{2} $"
   ]
  },
  {
   "attachments": {},
   "cell_type": "markdown",
   "metadata": {},
   "source": [
    "## Binary Search Tree"
   ]
  },
  {
   "attachments": {},
   "cell_type": "markdown",
   "metadata": {},
   "source": [
    "- height of tree is $log_{2}(n+1)$\n"
   ]
  },
  {
   "attachments": {},
   "cell_type": "markdown",
   "metadata": {},
   "source": [
    "- Best case - search root node\n",
    "    - Best case time $O(1) $\n",
    "- worst case - search for leaf element\n",
    "    - worst case time $(log(n))$ = h \n",
    "        - min w(n) = $logn$\n",
    "        - max w(n) = n"
   ]
  },
  {
   "cell_type": "markdown",
   "metadata": {},
   "source": []
  }
 ],
 "metadata": {
  "language_info": {
   "name": "python"
  },
  "orig_nbformat": 4
 },
 "nbformat": 4,
 "nbformat_minor": 2
}
